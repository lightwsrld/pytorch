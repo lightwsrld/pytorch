{
  "cells": [
    {
      "cell_type": "code",
      "execution_count": null,
      "metadata": {
        "id": "FHgc2djC9hAX",
        "outputId": "f6961d7d-1b31-46c6-b950-c9c1553284db"
      },
      "outputs": [
        {
          "data": {
            "text/html": [
              "<div>\n",
              "<style scoped>\n",
              "    .dataframe tbody tr th:only-of-type {\n",
              "        vertical-align: middle;\n",
              "    }\n",
              "\n",
              "    .dataframe tbody tr th {\n",
              "        vertical-align: top;\n",
              "    }\n",
              "\n",
              "    .dataframe thead th {\n",
              "        text-align: right;\n",
              "    }\n",
              "</style>\n",
              "<table border=\"1\" class=\"dataframe\">\n",
              "  <thead>\n",
              "    <tr style=\"text-align: right;\">\n",
              "      <th></th>\n",
              "      <th>price</th>\n",
              "      <th>maint</th>\n",
              "      <th>doors</th>\n",
              "      <th>persons</th>\n",
              "      <th>lug_capacity</th>\n",
              "      <th>safety</th>\n",
              "      <th>output</th>\n",
              "    </tr>\n",
              "  </thead>\n",
              "  <tbody>\n",
              "    <tr>\n",
              "      <th>0</th>\n",
              "      <td>vhigh</td>\n",
              "      <td>vhigh</td>\n",
              "      <td>2</td>\n",
              "      <td>2</td>\n",
              "      <td>small</td>\n",
              "      <td>low</td>\n",
              "      <td>unacc</td>\n",
              "    </tr>\n",
              "    <tr>\n",
              "      <th>1</th>\n",
              "      <td>vhigh</td>\n",
              "      <td>vhigh</td>\n",
              "      <td>2</td>\n",
              "      <td>2</td>\n",
              "      <td>small</td>\n",
              "      <td>med</td>\n",
              "      <td>unacc</td>\n",
              "    </tr>\n",
              "    <tr>\n",
              "      <th>2</th>\n",
              "      <td>vhigh</td>\n",
              "      <td>vhigh</td>\n",
              "      <td>2</td>\n",
              "      <td>2</td>\n",
              "      <td>small</td>\n",
              "      <td>high</td>\n",
              "      <td>unacc</td>\n",
              "    </tr>\n",
              "    <tr>\n",
              "      <th>3</th>\n",
              "      <td>vhigh</td>\n",
              "      <td>vhigh</td>\n",
              "      <td>2</td>\n",
              "      <td>2</td>\n",
              "      <td>med</td>\n",
              "      <td>low</td>\n",
              "      <td>unacc</td>\n",
              "    </tr>\n",
              "    <tr>\n",
              "      <th>4</th>\n",
              "      <td>vhigh</td>\n",
              "      <td>vhigh</td>\n",
              "      <td>2</td>\n",
              "      <td>2</td>\n",
              "      <td>med</td>\n",
              "      <td>med</td>\n",
              "      <td>unacc</td>\n",
              "    </tr>\n",
              "  </tbody>\n",
              "</table>\n",
              "</div>"
            ],
            "text/plain": [
              "   price  maint doors persons lug_capacity safety output\n",
              "0  vhigh  vhigh     2       2        small    low  unacc\n",
              "1  vhigh  vhigh     2       2        small    med  unacc\n",
              "2  vhigh  vhigh     2       2        small   high  unacc\n",
              "3  vhigh  vhigh     2       2          med    low  unacc\n",
              "4  vhigh  vhigh     2       2          med    med  unacc"
            ]
          },
          "execution_count": 1,
          "metadata": {},
          "output_type": "execute_result"
        }
      ],
      "source": [
        "import pandas as pd\n",
        "import numpy as np\n",
        "import torch\n",
        "\n",
        "data = pd.read_csv(\"C:/Users/82109/Documents/car_evaluation.csv\")\n",
        "data.head()"
      ]
    },
    {
      "cell_type": "code",
      "execution_count": null,
      "metadata": {
        "id": "c03PkHoT9hAd",
        "outputId": "4ecb7035-ab28-4553-f975-e83a572f9145"
      },
      "outputs": [
        {
          "data": {
            "text/plain": [
              "array([[3, 3, 0, 0, 2, 1],\n",
              "       [3, 3, 0, 0, 2, 2],\n",
              "       [3, 3, 0, 0, 2, 0],\n",
              "       [3, 3, 0, 0, 1, 1],\n",
              "       [3, 3, 0, 0, 1, 2],\n",
              "       [3, 3, 0, 0, 1, 0],\n",
              "       [3, 3, 0, 0, 0, 1],\n",
              "       [3, 3, 0, 0, 0, 2],\n",
              "       [3, 3, 0, 0, 0, 0],\n",
              "       [3, 3, 0, 1, 2, 1]], dtype=int8)"
            ]
          },
          "execution_count": 2,
          "metadata": {},
          "output_type": "execute_result"
        }
      ],
      "source": [
        "# 데이터 전처리 - 1. 범주 특성을 갖는 데이터를 범주형 타입으로 변환\n",
        "# 2. 범주형 타입을 텐서로 변환\n",
        "# 범주형 데이터 -> 넘파이 배열 -> 텐서\n",
        "\n",
        "categorical_columns = ['price', 'maint', 'doors', 'persons', 'lug_capacity', 'safety']\n",
        "for category in categorical_columns:\n",
        "    data[category] = data[category].astype('category')\n",
        "\n",
        "price = data['price'].cat.codes.values    # 범주형 데이터를 숫자로 변환하기 위해 사용\n",
        "maint = data['maint'].cat.codes.values\n",
        "doors = data['doors'].cat.codes.values\n",
        "persons = data['persons'].cat.codes.values\n",
        "lug_capacity = data['lug_capacity'].cat.codes.values\n",
        "safety= data['safety'].cat.codes.values\n",
        "\n",
        "categorical_data = np.stack([price, maint, doors, persons, lug_capacity, safety], 1)\n",
        "categorical_data[:10]"
      ]
    },
    {
      "cell_type": "code",
      "execution_count": null,
      "metadata": {
        "id": "5ZHZD46A9hAf",
        "outputId": "f078eea2-6aea-4ed6-f2fc-8a2e2a8780a9"
      },
      "outputs": [
        {
          "data": {
            "text/plain": [
              "tensor([[3, 3, 0, 0, 2, 1],\n",
              "        [3, 3, 0, 0, 2, 2],\n",
              "        [3, 3, 0, 0, 2, 0],\n",
              "        [3, 3, 0, 0, 1, 1],\n",
              "        [3, 3, 0, 0, 1, 2],\n",
              "        [3, 3, 0, 0, 1, 0],\n",
              "        [3, 3, 0, 0, 0, 1],\n",
              "        [3, 3, 0, 0, 0, 2],\n",
              "        [3, 3, 0, 0, 0, 0],\n",
              "        [3, 3, 0, 1, 2, 1]])"
            ]
          },
          "execution_count": 3,
          "metadata": {},
          "output_type": "execute_result"
        }
      ],
      "source": [
        "categorical_data = torch.tensor(categorical_data, dtype=torch.int64)\n",
        "categorical_data[:10]"
      ]
    },
    {
      "cell_type": "code",
      "execution_count": null,
      "metadata": {
        "id": "DxrbHMwR9hAg",
        "outputId": "ccccdb79-6610-4253-9c6d-7a298797b750"
      },
      "outputs": [
        {
          "name": "stdout",
          "output_type": "stream",
          "text": [
            "torch.Size([1728, 6])\n",
            "torch.Size([6912])\n"
          ]
        }
      ],
      "source": [
        "outputs = pd.get_dummies(data.output)\n",
        "outputs = outputs.values\n",
        "outputs = torch.tensor(outputs).flatten()\n",
        "\n",
        "print(categorical_data.shape)\n",
        "print(outputs.shape)"
      ]
    },
    {
      "cell_type": "code",
      "execution_count": null,
      "metadata": {
        "id": "Uw347_nZ9hAh",
        "outputId": "3520915c-9bbb-46fd-9e4c-51559efb40a6"
      },
      "outputs": [
        {
          "name": "stdout",
          "output_type": "stream",
          "text": [
            "[(4, 2), (4, 2), (4, 2), (3, 2), (3, 2), (3, 2)]\n"
          ]
        }
      ],
      "source": [
        "# 범주형 컬럼을 N차원으로 변환\n",
        "categorical_column_sizes = [len(data[column].astype('category').cat.categories) for column in categorical_columns]\n",
        "categorical_embedding_sizes = [(col_size, min(50, (col_size+1)//2)) for col_size in\n",
        "                               categorical_column_sizes]\n",
        "print(categorical_embedding_sizes)\n",
        "\n",
        "# (모든 범주형 컬럼의 고유 값 수, 차원의 크기) 형태의 배열로 출력됨"
      ]
    },
    {
      "cell_type": "code",
      "execution_count": null,
      "metadata": {
        "id": "sIsBz2BQ9hAj",
        "outputId": "45809672-fea5-4667-cc62-8bc902f2c119"
      },
      "outputs": [
        {
          "name": "stdout",
          "output_type": "stream",
          "text": [
            "1383\n",
            "1383\n",
            "345\n",
            "345\n"
          ]
        }
      ],
      "source": [
        "# 데이터셋 분리\n",
        "total_records = 1728\n",
        "test = int(total_records*0.2)\n",
        "\n",
        "train_data = categorical_data[:total_records - test]\n",
        "test_data = categorical_data[total_records - test:total_records]\n",
        "train_outputs = outputs[:total_records - test]\n",
        "test_outputs = outputs[total_records - test:total_records]\n",
        "\n",
        "print(len(train_data))\n",
        "print(len(train_outputs))\n",
        "print(len(test_data))\n",
        "print(len(test_outputs))"
      ]
    },
    {
      "cell_type": "code",
      "execution_count": null,
      "metadata": {
        "id": "_rSmGJkj9hAk"
      },
      "outputs": [],
      "source": [
        "# 모델의 네트워크 생성\n",
        "\n",
        "import torch.nn as nn\n",
        "\n",
        "class Model(nn.Module):\n",
        "    def __init__(self, embedding_size, output_size, layers, p=0.4):\n",
        "        super().__init__()\n",
        "        self.all_embeddings = nn.ModuleList([nn.Embedding(ni, nf) for ni, nf in embedding_size])\n",
        "        self.embedding_dropout = nn.Dropout(p)\n",
        "\n",
        "        all_layers = []\n",
        "        num_catogorical_cols = sum((nf for ni, nf in embedding_size))\n",
        "        input_size = num_catogorical_cols       # 입력층의 크기\n",
        "\n",
        "        for i in layers:\n",
        "            all_layers.append(nn.Linear(input_size, i))\n",
        "            all_layers.append(nn.ReLU(inplace=True))\n",
        "            all_layers.append(nn.BatchNorm1d(i))\n",
        "            all_layers.append(nn.Dropout(p))\n",
        "            input_size = i\n",
        "\n",
        "        all_layers.append(nn.Linear(layers[-1], output_size))\n",
        "        self.layers = nn.Sequential(*all_layers)      # 신경망의 모든 계층이 순차적으로 실행되도록 모든 계층에 대한 목록을 nn.Sequential 클래스로 전달\n",
        "\n",
        "    def forward(self, x_categorical):\n",
        "        embeddings = []\n",
        "        for i, e in enumerate(self.all_embeddings):\n",
        "             embeddings.append(e(x_categorical[:, i]))\n",
        "        x = torch.cat(embeddings, 1)\n",
        "        x = self.embedding_dropout(x)\n",
        "        x = self.layers(x)\n",
        "        return x"
      ]
    },
    {
      "cell_type": "code",
      "execution_count": null,
      "metadata": {
        "id": "kiJCfc9b9hAl",
        "outputId": "59435d99-96b0-46fc-99b2-9c67343609b2"
      },
      "outputs": [
        {
          "name": "stdout",
          "output_type": "stream",
          "text": [
            "Model(\n",
            "  (all_embeddings): ModuleList(\n",
            "    (0): Embedding(4, 2)\n",
            "    (1): Embedding(4, 2)\n",
            "    (2): Embedding(4, 2)\n",
            "    (3): Embedding(3, 2)\n",
            "    (4): Embedding(3, 2)\n",
            "    (5): Embedding(3, 2)\n",
            "  )\n",
            "  (embedding_dropout): Dropout(p=0.4, inplace=False)\n",
            "  (layers): Sequential(\n",
            "    (0): Linear(in_features=12, out_features=200, bias=True)\n",
            "    (1): ReLU(inplace=True)\n",
            "    (2): BatchNorm1d(200, eps=1e-05, momentum=0.1, affine=True, track_running_stats=True)\n",
            "    (3): Dropout(p=0.4, inplace=False)\n",
            "    (4): Linear(in_features=200, out_features=100, bias=True)\n",
            "    (5): ReLU(inplace=True)\n",
            "    (6): BatchNorm1d(100, eps=1e-05, momentum=0.1, affine=True, track_running_stats=True)\n",
            "    (7): Dropout(p=0.4, inplace=False)\n",
            "    (8): Linear(in_features=100, out_features=50, bias=True)\n",
            "    (9): ReLU(inplace=True)\n",
            "    (10): BatchNorm1d(50, eps=1e-05, momentum=0.1, affine=True, track_running_stats=True)\n",
            "    (11): Dropout(p=0.4, inplace=False)\n",
            "    (12): Linear(in_features=50, out_features=4, bias=True)\n",
            "  )\n",
            ")\n"
          ]
        }
      ],
      "source": [
        "# 모델 훈련\n",
        "\n",
        "# (범주형 칼럼의 임베딩 크기, 출력 크기, 은닉층의 뉴런, 드롭아웃) - 출력층에 4개의 뉴런이 포함되도록 지정\n",
        "model = Model(categorical_embedding_sizes, 4, [200, 100, 50], p=0.4)\n",
        "print(model)"
      ]
    },
    {
      "cell_type": "code",
      "execution_count": null,
      "metadata": {
        "id": "ix20u7dp9hAm"
      },
      "outputs": [],
      "source": [
        "# 손실 함수와 옵티마이저 지정\n",
        "loss_function = nn.CrossEntropyLoss()\n",
        "optimizer = torch.optim.Adam(model.parameters(), lr=0.001)"
      ]
    },
    {
      "cell_type": "code",
      "execution_count": null,
      "metadata": {
        "id": "Z4Ss9HXX9hAn"
      },
      "outputs": [],
      "source": [
        "if torch.cuda.is_available():\n",
        "    device = torch.device('cuda')\n",
        "else:\n",
        "    device = torch.device('cpu')"
      ]
    },
    {
      "cell_type": "code",
      "execution_count": null,
      "metadata": {
        "id": "shmrzlf09hAo",
        "outputId": "7f5a1177-5cd1-427b-810b-27e0c3dbc41c"
      },
      "outputs": [
        {
          "name": "stdout",
          "output_type": "stream",
          "text": [
            "epoch:   1 loss: 1.54265475\n",
            "epoch:  26 loss: 1.31333125\n",
            "epoch:  51 loss: 1.22091925\n",
            "epoch:  76 loss: 1.13867676\n",
            "epoch: 101 loss: 1.02842546\n",
            "epoch: 126 loss: 0.89785063\n",
            "epoch: 151 loss: 0.80984950\n",
            "epoch: 176 loss: 0.74143010\n",
            "epoch: 201 loss: 0.68771511\n",
            "epoch: 226 loss: 0.65044564\n",
            "epoch: 251 loss: 0.63270903\n",
            "epoch: 276 loss: 0.61881870\n",
            "epoch: 301 loss: 0.60940146\n",
            "epoch: 326 loss: 0.60052449\n",
            "epoch: 351 loss: 0.59459430\n",
            "epoch: 376 loss: 0.58830214\n",
            "epoch: 401 loss: 0.58599389\n",
            "epoch: 426 loss: 0.57882488\n",
            "epoch: 451 loss: 0.58171344\n",
            "epoch: 476 loss: 0.57825309\n",
            "epoch: 500 loss: 0.5734215975\n"
          ]
        }
      ],
      "source": [
        "epochs = 500\n",
        "aggregated_losses = []\n",
        "train_outputs = train_outputs.to(device=device, dtype=torch.int64)\n",
        "\n",
        "for i in range(epochs):\n",
        "    i += 1\n",
        "    y_pred = model(train_data)\n",
        "    single_loss = loss_function(y_pred, train_outputs)\n",
        "    aggregated_losses.append(single_loss)\n",
        "\n",
        "    if i%25 == 1:\n",
        "        print(f'epoch: {i:3} loss: {single_loss.item():10.8f}')\n",
        "\n",
        "    optimizer.zero_grad()\n",
        "    single_loss.backward()\n",
        "    optimizer.step()\n",
        "\n",
        "print(f'epoch: {i:3} loss: {single_loss.item():10.10f}')"
      ]
    },
    {
      "cell_type": "code",
      "execution_count": null,
      "metadata": {
        "id": "Tb_G4X6N9hAo",
        "outputId": "b69ec6b1-5f1b-4ab5-fbc6-3f1e6cc280fc"
      },
      "outputs": [
        {
          "name": "stdout",
          "output_type": "stream",
          "text": [
            "Loss: 0.58619040\n"
          ]
        }
      ],
      "source": [
        "# test dataset으로 모델 예측\n",
        "\n",
        "test_outputs = test_outputs.to(device=device, dtype=torch.int64)\n",
        "\n",
        "with torch.no_grad():\n",
        "    y_val = model(test_data)\n",
        "    loss = loss_function(y_val, test_outputs)\n",
        "print(f'Loss: {loss:.8f}')"
      ]
    },
    {
      "cell_type": "code",
      "execution_count": null,
      "metadata": {
        "id": "ZlYVk8K_9hAp",
        "outputId": "8a7cef72-7571-4133-dd1d-d126f23266fd"
      },
      "outputs": [
        {
          "name": "stdout",
          "output_type": "stream",
          "text": [
            "tensor([[ 2.2071,  1.1788, -3.0565, -2.8558],\n",
            "        [ 2.5270,  1.4830, -3.1125, -3.3577],\n",
            "        [ 4.2722,  2.8437, -5.3717, -5.1644],\n",
            "        [ 3.2329,  1.9945, -3.7247, -3.6317],\n",
            "        [ 2.4483,  1.5712, -2.7059, -2.8627]])\n"
          ]
        }
      ],
      "source": [
        "print(y_val[:5])"
      ]
    },
    {
      "cell_type": "code",
      "execution_count": null,
      "metadata": {
        "id": "CHoaGXwA9hAq",
        "outputId": "1c7b22c5-009b-4ab4-c76c-fa2d805a7638"
      },
      "outputs": [
        {
          "name": "stdout",
          "output_type": "stream",
          "text": [
            "tensor([0, 0, 0, 0, 0])\n"
          ]
        }
      ],
      "source": [
        "# 가장 큰 값을 갖는 인덱스 출력\n",
        "\n",
        "y_val = np.argmax(y_val, axis=1)\n",
        "print(y_val[:5])      # 인덱스가 0인 값이 인덱스가 1인 값보다 크므로 처리된 출력은 0"
      ]
    },
    {
      "cell_type": "code",
      "execution_count": null,
      "metadata": {
        "id": "dipJuR-y9hAr",
        "outputId": "d2590b4c-0fe0-4631-90c0-f8d316c3722d"
      },
      "outputs": [
        {
          "name": "stdout",
          "output_type": "stream",
          "text": [
            "[[257   1   1]\n",
            " [ 86   0   0]\n",
            " [  0   0   0]]\n",
            "              precision    recall  f1-score   support\n",
            "\n",
            "           0       0.75      0.99      0.85       259\n",
            "           1       0.00      0.00      0.00        86\n",
            "           3       0.00      0.00      0.00         0\n",
            "\n",
            "    accuracy                           0.74       345\n",
            "   macro avg       0.25      0.33      0.28       345\n",
            "weighted avg       0.56      0.74      0.64       345\n",
            "\n",
            "0.744927536231884\n"
          ]
        }
      ],
      "source": [
        "from sklearn.metrics import classification_report, confusion_matrix, accuracy_score\n",
        "\n",
        "print(confusion_matrix(test_outputs,y_val))\n",
        "print(classification_report(test_outputs,y_val))\n",
        "print(accuracy_score(test_outputs, y_val))"
      ]
    }
  ],
  "metadata": {
    "kernelspec": {
      "display_name": "Python 3",
      "language": "python",
      "name": "python3"
    },
    "language_info": {
      "codemirror_mode": {
        "name": "ipython",
        "version": 3
      },
      "file_extension": ".py",
      "mimetype": "text/x-python",
      "name": "python",
      "nbconvert_exporter": "python",
      "pygments_lexer": "ipython3",
      "version": "3.8.5"
    },
    "colab": {
      "provenance": []
    }
  },
  "nbformat": 4,
  "nbformat_minor": 0
}