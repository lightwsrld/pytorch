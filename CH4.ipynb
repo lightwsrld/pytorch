{
 "cells": [
  {
   "cell_type": "code",
   "execution_count": null,
   "metadata": {},
   "outputs": [],
   "source": [
    "############ 4장"
   ]
  },
  {
   "cell_type": "code",
   "execution_count": 1,
   "metadata": {},
   "outputs": [],
   "source": [
    "import pandas as pd\n",
    "import numpy as np\n",
    "import torch\n",
    "import torch.nn as nn"
   ]
  },
  {
   "cell_type": "code",
   "execution_count": null,
   "metadata": {},
   "outputs": [],
   "source": [
    "# 렐루 함수와 소프트맥스 함수를 구현\n",
    "\n",
    "class Net(torch.nn.Module):\n",
    "    def __init__(self, n_feature, n_hidden, n_output):\n",
    "        super(Net, self).__init__()\n",
    "        self.hidden = torch.nn.Linear(n_feature, n_hidden)    #은닉층\n",
    "        self.relu = torch.nn.ReLu(inplace=True)\n",
    "        self.out = torch.nn.Linear(n_hidden, n_output)      # 출력층\n",
    "        self.softmax = torch.nn.Softmax(dim = n_output)\n",
    "        \n",
    "    def forward(self, x):\n",
    "        x = self.hidden(x)\n",
    "        x = self.relu(x)         # 은닉층을 위한 렐루 활성화 함수\n",
    "        x = self.out(x)          # 출력층을 위한 소프트맥스 활성화 함수\n",
    "        return x\n",
    "    \n",
    "# softmax의 경우 forward에서는 사용하지 않음 - 다중 클래스 분류 문제에서 확률 또는 확률 분포를 얻는데 사용되기 때문\n",
    "# 활성화 함수 지정 방법 \n",
    "#1) F.relu(): forward() 함수에서 정의\n",
    "# 2) nn.ReLU(): __init__() 함수에서 정의"
   ]
  },
  {
   "cell_type": "code",
   "execution_count": null,
   "metadata": {},
   "outputs": [],
   "source": [
    "# 손실 함수\n",
    "loss_fn = torch.nn.MSELoss(reduction='sum')\n",
    "y_pred = model(x)\n",
    "loss = loss_fn(y_pred, y)\n",
    "\n",
    "# 크로스 엔트로피 오차\n",
    "loss.fn = nn.CrossEntropyLoss()\n",
    "input = torch.randn(5, 6, requires_grad=True)\n",
    "target = torch.empty(3, dtype=torch.long).random_(5)\n",
    "output = loss(input, target)\n",
    "output.backward()"
   ]
  },
  {
   "cell_type": "code",
   "execution_count": null,
   "metadata": {},
   "outputs": [],
   "source": [
    "# 드롭아웃\n",
    "\n",
    "class DropoutModel(torch.nn.Module):\n",
    "    def __init__(self):\n",
    "        super(DropoutModel, self).__init__()\n",
    "        self.layer1 = torch.nn.Linear(784, 1200)\n",
    "        self.droupout1 = torch.nn.Dropout(0.5)\n",
    "        self.layer2 = torch.nn.Linear(1200, 1200)\n",
    "        self.dropout2 = torch.nn.Dropout(0.5)\n",
    "        self.layer3 = torch.nn.Linear(1200, 10)\n",
    "        \n",
    "    def forward(self, x)\n",
    "    x = F.relu(self.layer1(x))      # layer1의 출력에 ReLu 활성화 함수 기능을 적용\n",
    "    x = self.dropout1(x)\n",
    "    x = F.relu(self.layer2(x))\n",
    "    x = self.dropout2(x)\n",
    "    return self.layer3(x)        # 최종 layer3의 출력을 반환, logit 또는 확률값을 반환\n"
   ]
  },
  {
   "cell_type": "code",
   "execution_count": null,
   "metadata": {},
   "outputs": [],
   "source": [
    "# 경사 하강법\n",
    "\n",
    "class CustomDataset(Dataset):\n",
    "    def __init__(self):\n",
    "        self.x.data = [[1, 2, 3], [4, 5, 6], [7, 8, 9]]\n",
    "        self.y.data = [[12], [18], [11]]\n",
    "        \n",
    "        def __len__(self):\n",
    "            return len(self.x_data)\n",
    "        def __getitem__(self, idx):                 #특정 샘플을 검색하는 함수\n",
    "            x = torch.FloatTensor(self.x_data[idx])\n",
    "            y = torch.FloatTensor(self.y_data[idx])\n",
    "            return x, y\n",
    "dataset = CustomDataset()\n",
    "dataloader = DataLoader()"
   ]
  },
  {
   "cell_type": "code",
   "execution_count": null,
   "metadata": {},
   "outputs": [],
   "source": []
  },
  {
   "cell_type": "code",
   "execution_count": null,
   "metadata": {},
   "outputs": [],
   "source": []
  }
 ],
 "metadata": {
  "kernelspec": {
   "display_name": "Python 3",
   "language": "python",
   "name": "python3"
  },
  "language_info": {
   "codemirror_mode": {
    "name": "ipython",
    "version": 3
   },
   "file_extension": ".py",
   "mimetype": "text/x-python",
   "name": "python",
   "nbconvert_exporter": "python",
   "pygments_lexer": "ipython3",
   "version": "3.7.4"
  }
 },
 "nbformat": 4,
 "nbformat_minor": 2
}
